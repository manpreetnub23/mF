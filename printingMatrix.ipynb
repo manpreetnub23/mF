{
 "cells": [
  {
   "cell_type": "code",
   "execution_count": 34,
   "metadata": {},
   "outputs": [],
   "source": [
    "import numpy as np\n",
    "import numpy.linalg as la"
   ]
  },
  {
   "cell_type": "code",
   "execution_count": 10,
   "metadata": {},
   "outputs": [
    {
     "data": {
      "text/plain": [
       "numpy.matrix"
      ]
     },
     "execution_count": 10,
     "metadata": {},
     "output_type": "execute_result"
    }
   ],
   "source": [
    "# creating an array\n",
    "a = np.matrix([[1,2,3],[4,5,6],[7,8,9]])\n",
    "type(a)"
   ]
  },
  {
   "cell_type": "code",
   "execution_count": 12,
   "metadata": {},
   "outputs": [],
   "source": [
    "A = np.matrix([[0,1],[-2,-3]])\n",
    "B = np.matrix([[1,0],[3,-2]])"
   ]
  },
  {
   "cell_type": "code",
   "execution_count": 16,
   "metadata": {},
   "outputs": [
    {
     "name": "stdout",
     "output_type": "stream",
     "text": [
      "A + b =  [[ 1  1]\n",
      " [ 1 -5]]\n"
     ]
    }
   ],
   "source": [
    "# adding 2 matrices.\n",
    "C = A + B\n",
    "print(\"A + b = \",C)"
   ]
  },
  {
   "cell_type": "code",
   "execution_count": 17,
   "metadata": {},
   "outputs": [
    {
     "name": "stdout",
     "output_type": "stream",
     "text": [
      "A - B =  [[-1  1]\n",
      " [-5 -1]]\n"
     ]
    }
   ],
   "source": [
    "# subtracting two matrices.\n",
    "C = A - B\n",
    "print(\"A - B = \",C)"
   ]
  },
  {
   "cell_type": "code",
   "execution_count": 18,
   "metadata": {},
   "outputs": [
    {
     "name": "stdout",
     "output_type": "stream",
     "text": [
      "A * B =  [[  3  -2]\n",
      " [-11   6]]\n"
     ]
    }
   ],
   "source": [
    "# multiplying two matrices.\n",
    "C = A * B\n",
    "print(\"A * B = \",C)"
   ]
  },
  {
   "cell_type": "code",
   "execution_count": 27,
   "metadata": {},
   "outputs": [
    {
     "name": "stdout",
     "output_type": "stream",
     "text": [
      "[[ 1  3  7  2]\n",
      " [ 5  8 -9  0]\n",
      " [ 6 -7 11 12]]\n",
      "transpose of A : \n",
      " [[ 1  5  6]\n",
      " [ 3  8 -7]\n",
      " [ 7 -9 11]\n",
      " [ 2  0 12]]\n"
     ]
    }
   ],
   "source": [
    "mat1 = np.array([[1,3,7,2],[5,8,-9,0],[6,-7,11,12]])\n",
    "print(mat1)\n",
    "aTranspose = np.transpose(mat1)\n",
    "print(\"transpose of A : \\n\", aTranspose)"
   ]
  },
  {
   "cell_type": "code",
   "execution_count": 33,
   "metadata": {},
   "outputs": [
    {
     "name": "stdout",
     "output_type": "stream",
     "text": [
      "[[1 5]\n",
      " [4 5]\n",
      " [3 2]\n",
      " [7 8]]\n",
      "transpose of b : \n",
      " [[1 4 3 7]\n",
      " [5 5 2 8]]\n"
     ]
    }
   ],
   "source": [
    "mat2 = np.array([[1,5],[4,5],[3,2],[7,8]])\n",
    "print(mat2)\n",
    "bTranspose = np.transpose(mat2)\n",
    "print(\"transpose of b : \\n\", bTranspose)"
   ]
  },
  {
   "cell_type": "code",
   "execution_count": 39,
   "metadata": {},
   "outputs": [
    {
     "name": "stdout",
     "output_type": "stream",
     "text": [
      "2.0\n"
     ]
    }
   ],
   "source": [
    "matOne = np.array([[1,2],[3,4]])\n",
    "aDet = la.det(A)\n",
    "print(aDet)"
   ]
  },
  {
   "cell_type": "code",
   "execution_count": 38,
   "metadata": {},
   "outputs": [
    {
     "name": "stdout",
     "output_type": "stream",
     "text": [
      "-21.00000000000001\n"
     ]
    }
   ],
   "source": [
    "matTwo = np.array([[-1,3,0],[2,1,-5],[1,4,-2]])\n",
    "bDet = la.det(matTwo)\n",
    "print(bDet)"
   ]
  },
  {
   "cell_type": "code",
   "execution_count": 40,
   "metadata": {},
   "outputs": [
    {
     "name": "stdout",
     "output_type": "stream",
     "text": [
      "[[-2.   1. ]\n",
      " [ 1.5 -0.5]]\n"
     ]
    }
   ],
   "source": [
    "aInv = la.inv(matOne)\n",
    "print(aInv)"
   ]
  },
  {
   "cell_type": "code",
   "execution_count": 41,
   "metadata": {},
   "outputs": [
    {
     "name": "stdout",
     "output_type": "stream",
     "text": [
      "[[-0.85714286 -0.28571429  0.71428571]\n",
      " [ 0.04761905 -0.0952381   0.23809524]\n",
      " [-0.33333333 -0.33333333  0.33333333]]\n"
     ]
    }
   ],
   "source": [
    "bInv = la.inv(matTwo)\n",
    "print(bInv)"
   ]
  },
  {
   "cell_type": "code",
   "execution_count": 46,
   "metadata": {},
   "outputs": [
    {
     "name": "stdout",
     "output_type": "stream",
     "text": [
      "[-1. -2.]\n"
     ]
    }
   ],
   "source": [
    "aEig , v = la.eig(A)\n",
    "print(aEig)"
   ]
  },
  {
   "cell_type": "code",
   "execution_count": 58,
   "metadata": {},
   "outputs": [
    {
     "data": {
      "text/plain": [
       "array([[-4. ],\n",
       "       [ 4.5]])"
      ]
     },
     "execution_count": 58,
     "metadata": {},
     "output_type": "execute_result"
    }
   ],
   "source": [
    "aa = np.array([[1,2],[3,4]])\n",
    "bb = np.array([[5],[6]])\n",
    "aaI = la.inv(aa)\n",
    "x = aaI.dot(bb)\n",
    "x"
   ]
  },
  {
   "cell_type": "code",
   "execution_count": 63,
   "metadata": {},
   "outputs": [
    {
     "name": "stdout",
     "output_type": "stream",
     "text": [
      "[[-1.   0.6  0.8]\n",
      " [ 0.  -0.2  0.4]\n",
      " [ 1.  -0.  -1. ]]\n"
     ]
    },
    {
     "data": {
      "text/plain": [
       "array([[-1. ,  1.8,  1.6],\n",
       "       [ 0. , -0.2,  0.8],\n",
       "       [ 1. , -0. , -1. ]])"
      ]
     },
     "execution_count": 63,
     "metadata": {},
     "output_type": "execute_result"
    }
   ],
   "source": [
    "haha = np.array([[1,3,2],[2,1,2],[1,3,1]])\n",
    "hahaInverse = la.inv(haha)\n",
    "print(hahaInverse)\n",
    "res = hahaInverse * haha\n",
    "res\n"
   ]
  },
  {
   "cell_type": "code",
   "execution_count": null,
   "metadata": {},
   "outputs": [],
   "source": []
  }
 ],
 "metadata": {
  "kernelspec": {
   "display_name": "Python 3",
   "language": "python",
   "name": "python3"
  },
  "language_info": {
   "codemirror_mode": {
    "name": "ipython",
    "version": 3
   },
   "file_extension": ".py",
   "mimetype": "text/x-python",
   "name": "python",
   "nbconvert_exporter": "python",
   "pygments_lexer": "ipython3",
   "version": "3.12.4"
  }
 },
 "nbformat": 4,
 "nbformat_minor": 2
}
