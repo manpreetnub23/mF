{
 "cells": [
  {
   "cell_type": "code",
   "execution_count": 33,
   "metadata": {},
   "outputs": [],
   "source": [
    "import numpy as np\n",
    "import pandas as pd\n",
    "import matplotlib.pyplot as plt"
   ]
  },
  {
   "cell_type": "code",
   "execution_count": 3,
   "metadata": {},
   "outputs": [
    {
     "data": {
      "text/html": [
       "<div>\n",
       "<style scoped>\n",
       "    .dataframe tbody tr th:only-of-type {\n",
       "        vertical-align: middle;\n",
       "    }\n",
       "\n",
       "    .dataframe tbody tr th {\n",
       "        vertical-align: top;\n",
       "    }\n",
       "\n",
       "    .dataframe thead th {\n",
       "        text-align: right;\n",
       "    }\n",
       "</style>\n",
       "<table border=\"1\" class=\"dataframe\">\n",
       "  <thead>\n",
       "    <tr style=\"text-align: right;\">\n",
       "      <th></th>\n",
       "      <th>sepal.length</th>\n",
       "      <th>sepal.width</th>\n",
       "      <th>petal.length</th>\n",
       "      <th>petal.width</th>\n",
       "    </tr>\n",
       "  </thead>\n",
       "  <tbody>\n",
       "    <tr>\n",
       "      <th>145</th>\n",
       "      <td>6.7</td>\n",
       "      <td>3.0</td>\n",
       "      <td>5.2</td>\n",
       "      <td>2.3</td>\n",
       "    </tr>\n",
       "    <tr>\n",
       "      <th>146</th>\n",
       "      <td>6.3</td>\n",
       "      <td>2.5</td>\n",
       "      <td>5.0</td>\n",
       "      <td>1.9</td>\n",
       "    </tr>\n",
       "    <tr>\n",
       "      <th>147</th>\n",
       "      <td>6.5</td>\n",
       "      <td>3.0</td>\n",
       "      <td>5.2</td>\n",
       "      <td>2.0</td>\n",
       "    </tr>\n",
       "    <tr>\n",
       "      <th>148</th>\n",
       "      <td>6.2</td>\n",
       "      <td>3.4</td>\n",
       "      <td>5.4</td>\n",
       "      <td>2.3</td>\n",
       "    </tr>\n",
       "    <tr>\n",
       "      <th>149</th>\n",
       "      <td>5.9</td>\n",
       "      <td>3.0</td>\n",
       "      <td>5.1</td>\n",
       "      <td>1.8</td>\n",
       "    </tr>\n",
       "  </tbody>\n",
       "</table>\n",
       "</div>"
      ],
      "text/plain": [
       "     sepal.length  sepal.width  petal.length  petal.width\n",
       "145           6.7          3.0           5.2          2.3\n",
       "146           6.3          2.5           5.0          1.9\n",
       "147           6.5          3.0           5.2          2.0\n",
       "148           6.2          3.4           5.4          2.3\n",
       "149           5.9          3.0           5.1          1.8"
      ]
     },
     "execution_count": 3,
     "metadata": {},
     "output_type": "execute_result"
    }
   ],
   "source": [
    "df = pd.read_csv(\"iris.csv\")\n",
    "df.drop(\"variety\", axis=1, inplace=True)\n",
    "df.tail()"
   ]
  },
  {
   "cell_type": "code",
   "execution_count": 4,
   "metadata": {},
   "outputs": [],
   "source": [
    "def standardization(colums, df):\n",
    "    for columnName in colums :\n",
    "        avgg = df[columnName].mean()\n",
    "        stdd = df[columnName].std()\n",
    "        indx = 0\n",
    "        \n",
    "        for i in df[columnName]:\n",
    "            df[columnName][indx] = (i - avgg) / stdd\n",
    "            indx += 1"
   ]
  },
  {
   "cell_type": "code",
   "execution_count": 5,
   "metadata": {},
   "outputs": [
    {
     "data": {
      "text/html": [
       "<div>\n",
       "<style scoped>\n",
       "    .dataframe tbody tr th:only-of-type {\n",
       "        vertical-align: middle;\n",
       "    }\n",
       "\n",
       "    .dataframe tbody tr th {\n",
       "        vertical-align: top;\n",
       "    }\n",
       "\n",
       "    .dataframe thead th {\n",
       "        text-align: right;\n",
       "    }\n",
       "</style>\n",
       "<table border=\"1\" class=\"dataframe\">\n",
       "  <thead>\n",
       "    <tr style=\"text-align: right;\">\n",
       "      <th></th>\n",
       "      <th>sepal.length</th>\n",
       "      <th>sepal.width</th>\n",
       "      <th>petal.length</th>\n",
       "      <th>petal.width</th>\n",
       "    </tr>\n",
       "  </thead>\n",
       "  <tbody>\n",
       "    <tr>\n",
       "      <th>0</th>\n",
       "      <td>-0.897674</td>\n",
       "      <td>1.015602</td>\n",
       "      <td>-1.335752</td>\n",
       "      <td>-1.311052</td>\n",
       "    </tr>\n",
       "    <tr>\n",
       "      <th>1</th>\n",
       "      <td>-1.139200</td>\n",
       "      <td>-0.131539</td>\n",
       "      <td>-1.335752</td>\n",
       "      <td>-1.311052</td>\n",
       "    </tr>\n",
       "    <tr>\n",
       "      <th>2</th>\n",
       "      <td>-1.380727</td>\n",
       "      <td>0.327318</td>\n",
       "      <td>-1.392399</td>\n",
       "      <td>-1.311052</td>\n",
       "    </tr>\n",
       "    <tr>\n",
       "      <th>3</th>\n",
       "      <td>-1.501490</td>\n",
       "      <td>0.097889</td>\n",
       "      <td>-1.279104</td>\n",
       "      <td>-1.311052</td>\n",
       "    </tr>\n",
       "    <tr>\n",
       "      <th>4</th>\n",
       "      <td>-1.018437</td>\n",
       "      <td>1.245030</td>\n",
       "      <td>-1.335752</td>\n",
       "      <td>-1.311052</td>\n",
       "    </tr>\n",
       "  </tbody>\n",
       "</table>\n",
       "</div>"
      ],
      "text/plain": [
       "   sepal.length  sepal.width  petal.length  petal.width\n",
       "0     -0.897674     1.015602     -1.335752    -1.311052\n",
       "1     -1.139200    -0.131539     -1.335752    -1.311052\n",
       "2     -1.380727     0.327318     -1.392399    -1.311052\n",
       "3     -1.501490     0.097889     -1.279104    -1.311052\n",
       "4     -1.018437     1.245030     -1.335752    -1.311052"
      ]
     },
     "execution_count": 5,
     "metadata": {},
     "output_type": "execute_result"
    }
   ],
   "source": [
    "standardization([\"sepal.length\", \"sepal.width\", \"petal.length\", \"petal.width\"], df)\n",
    "df.head()"
   ]
  },
  {
   "cell_type": "code",
   "execution_count": 6,
   "metadata": {},
   "outputs": [],
   "source": [
    "def coVariance(df):\n",
    "    return df.cov()"
   ]
  },
  {
   "cell_type": "code",
   "execution_count": 7,
   "metadata": {},
   "outputs": [],
   "source": [
    "covMat = coVariance(df)"
   ]
  },
  {
   "cell_type": "code",
   "execution_count": 8,
   "metadata": {},
   "outputs": [],
   "source": [
    "eigenvalues,eigenvectors = np.linalg.eig(covMat)"
   ]
  },
  {
   "cell_type": "code",
   "execution_count": 9,
   "metadata": {},
   "outputs": [],
   "source": [
    "eig_pairs = [(eigenvalues[i], eigenvectors[:, i]) for i in range(len(eigenvalues))]"
   ]
  },
  {
   "cell_type": "code",
   "execution_count": 10,
   "metadata": {},
   "outputs": [],
   "source": [
    "eig_pairs.sort(key=lambda x: x[0], reverse=True)"
   ]
  },
  {
   "cell_type": "code",
   "execution_count": 14,
   "metadata": {},
   "outputs": [
    {
     "data": {
      "text/plain": [
       "[(2.9184978165319957,\n",
       "  array([ 0.52106591, -0.26934744,  0.5804131 ,  0.56485654])),\n",
       " (0.9140304714680705,\n",
       "  array([-0.37741762, -0.92329566, -0.02449161, -0.06694199])),\n",
       " (0.14675687557131534,\n",
       "  array([-0.71956635,  0.24438178,  0.14212637,  0.63427274])),\n",
       " (0.020714836428619206,\n",
       "  array([ 0.26128628, -0.12350962, -0.80144925,  0.52359713]))]"
      ]
     },
     "execution_count": 14,
     "metadata": {},
     "output_type": "execute_result"
    }
   ],
   "source": [
    "eig_pairs"
   ]
  },
  {
   "cell_type": "code",
   "execution_count": 32,
   "metadata": {},
   "outputs": [],
   "source": [
    "N = 2  \n",
    "top_eigenvalues = [eig_pairs[i][0] for i in range(N)]\n",
    "top_eigenvectors = np.column_stack([eig_pairs[i][1] for i in range(N)])\n"
   ]
  },
  {
   "cell_type": "code",
   "execution_count": 19,
   "metadata": {},
   "outputs": [
    {
     "name": "stdout",
     "output_type": "stream",
     "text": [
      "Transformed data  (150, 2)\n"
     ]
    }
   ],
   "source": [
    "pca_data = np.dot(df, top_eigenvectors)\n",
    "print(\"Transformed data \", pca_data.shape)"
   ]
  },
  {
   "cell_type": "code",
   "execution_count": 20,
   "metadata": {},
   "outputs": [
    {
     "data": {
      "text/plain": [
       "array([[-2.25714118, -0.47842383],\n",
       "       [-2.07401302,  0.67188269],\n",
       "       [-2.35633511,  0.34076642],\n",
       "       [-2.29170679,  0.59539986],\n",
       "       [-2.3818627 , -0.64467566],\n",
       "       [-2.06870061, -1.4842053 ],\n",
       "       [-2.43586845, -0.04748512],\n",
       "       [-2.22539189, -0.222403  ],\n",
       "       [-2.32684533,  1.1116037 ],\n",
       "       [-2.17703491,  0.46744757],\n",
       "       [-2.15907699, -1.04020587],\n",
       "       [-2.31836413, -0.132634  ],\n",
       "       [-2.2110437 ,  0.72624318],\n",
       "       [-2.62430902,  0.95829635],\n",
       "       [-2.19139921, -1.85384655],\n",
       "       [-2.25466121, -2.67731523],\n",
       "       [-2.20021676, -1.47865573],\n",
       "       [-2.18303613, -0.48720613],\n",
       "       [-1.89223284, -1.40032757],\n",
       "       [-2.33554476, -1.1240836 ],\n",
       "       [-1.90793125, -0.40749058],\n",
       "       [-2.19964383, -0.92103587],\n",
       "       [-2.76508142, -0.4568133 ],\n",
       "       [-1.81259716, -0.08527285],\n",
       "       [-2.21972701, -0.13679618],\n",
       "       [-1.9453293 ,  0.62352971],\n",
       "       [-2.04430277, -0.24135499],\n",
       "       [-2.1613365 , -0.52538942],\n",
       "       [-2.13241965, -0.312172  ],\n",
       "       [-2.25769799,  0.33660425],\n",
       "       [-2.13297647,  0.50285608],\n",
       "       [-1.82547925, -0.42228039],\n",
       "       [-2.60621687, -1.78758727],\n",
       "       [-2.43800983, -2.1435468 ],\n",
       "       [-2.10292986,  0.45866527],\n",
       "       [-2.20043723,  0.20541922],\n",
       "       [-2.03831765, -0.65934923],\n",
       "       [-2.51889339, -0.59031516],\n",
       "       [-2.42152026,  0.90116107],\n",
       "       [-2.16246625, -0.2679812 ],\n",
       "       [-2.27884081, -0.44024054],\n",
       "       [-1.85191836,  2.32961074],\n",
       "       [-2.54511203,  0.47750102],\n",
       "       [-1.95788857, -0.47074961],\n",
       "       [-2.12992356, -1.13841546],\n",
       "       [-2.06283361,  0.70867859],\n",
       "       [-2.37677076, -1.11668869],\n",
       "       [-2.38638171,  0.38495723],\n",
       "       [-2.22200263, -0.99462767],\n",
       "       [-2.19647504, -0.00918558],\n",
       "       [ 1.09810244, -0.86009103],\n",
       "       [ 0.72889556, -0.59262936],\n",
       "       [ 1.2368358 , -0.61423989],\n",
       "       [ 0.40612251,  1.7485462 ],\n",
       "       [ 1.07188379,  0.20772515],\n",
       "       [ 0.38738955,  0.59130272],\n",
       "       [ 0.74403715, -0.77043827],\n",
       "       [-0.48569562,  1.846244  ],\n",
       "       [ 0.92480346, -0.03211848],\n",
       "       [ 0.01138804,  1.03056578],\n",
       "       [-0.10982834,  2.64521111],\n",
       "       [ 0.43922201,  0.06308385],\n",
       "       [ 0.56023148,  1.75883213],\n",
       "       [ 0.71715934,  0.18560282],\n",
       "       [-0.03324333,  0.43753742],\n",
       "       [ 0.87248429, -0.50736424],\n",
       "       [ 0.34908221,  0.19565627],\n",
       "       [ 0.1582798 ,  0.78945101],\n",
       "       [ 1.22100316,  1.61682728],\n",
       "       [ 0.16436725,  1.29825994],\n",
       "       [ 0.73521959, -0.39524745],\n",
       "       [ 0.47469691,  0.41592689],\n",
       "       [ 1.23005729,  0.93020944],\n",
       "       [ 0.63074514,  0.41499744],\n",
       "       [ 0.70031506,  0.06320009],\n",
       "       [ 0.87135454, -0.24995602],\n",
       "       [ 1.25231375,  0.07699807],\n",
       "       [ 1.35386953, -0.33020546],\n",
       "       [ 0.66258066,  0.2251735 ],\n",
       "       [-0.04012419,  1.05518358],\n",
       "       [ 0.13035846,  1.55705555],\n",
       "       [ 0.02337438,  1.56722524],\n",
       "       [ 0.2407318 ,  0.7746612 ],\n",
       "       [ 1.05755171,  0.6317269 ],\n",
       "       [ 0.22323093,  0.28681266],\n",
       "       [ 0.42770626, -0.84275892],\n",
       "       [ 1.04522645, -0.52030871],\n",
       "       [ 1.04104379,  1.37837105],\n",
       "       [ 0.06935597,  0.21877043],\n",
       "       [ 0.28253073,  1.32488615],\n",
       "       [ 0.27814596,  1.11628885],\n",
       "       [ 0.62248441, -0.02483981],\n",
       "       [ 0.33540673,  0.98510383],\n",
       "       [-0.36097409,  2.01249582],\n",
       "       [ 0.28762268,  0.85287312],\n",
       "       [ 0.09105561,  0.18058714],\n",
       "       [ 0.22695654,  0.38363487],\n",
       "       [ 0.57446378,  0.15435649],\n",
       "       [-0.4461723 ,  1.53863746],\n",
       "       [ 0.25587339,  0.59685229],\n",
       "       [ 1.83841002, -0.86751506],\n",
       "       [ 1.15401555,  0.6965364 ],\n",
       "       [ 2.19790361, -0.56013398],\n",
       "       [ 1.43534213,  0.0468307 ],\n",
       "       [ 1.86157577, -0.2940597 ],\n",
       "       [ 2.74268509, -0.79773671],\n",
       "       [ 0.36579225,  1.55628918],\n",
       "       [ 2.29475181, -0.41866302],\n",
       "       [ 1.99998633,  0.70906323],\n",
       "       [ 2.25223216, -1.9145963 ],\n",
       "       [ 1.35962064, -0.6904434 ],\n",
       "       [ 1.59732747,  0.42029243],\n",
       "       [ 1.87761053, -0.41784981],\n",
       "       [ 1.25590769,  1.15837974],\n",
       "       [ 1.46274487,  0.44079488],\n",
       "       [ 1.5847682 , -0.67398689],\n",
       "       [ 1.46651849, -0.25476833],\n",
       "       [ 2.4182277 , -2.5481248 ],\n",
       "       [ 3.29964148, -0.01772158],\n",
       "       [ 1.25954707,  1.70104672],\n",
       "       [ 2.03091256, -0.90742744],\n",
       "       [ 0.97471535,  0.56985526],\n",
       "       [ 2.8879765 , -0.41225995],\n",
       "       [ 1.32878064,  0.4802025 ],\n",
       "       [ 1.6950553 , -1.01053648],\n",
       "       [ 1.94780139, -1.00441272],\n",
       "       [ 1.17118007,  0.31533806],\n",
       "       [ 1.01754169, -0.06413118],\n",
       "       [ 1.78237879,  0.18673563],\n",
       "       [ 1.85742501, -0.56041329],\n",
       "       [ 2.4278203 , -0.25841871],\n",
       "       [ 2.29723178, -2.61755442],\n",
       "       [ 1.85648383,  0.17795333],\n",
       "       [ 1.1104277 ,  0.29194458],\n",
       "       [ 1.19845835,  0.80860636],\n",
       "       [ 2.78942561, -0.85394254],\n",
       "       [ 1.57099294, -1.06501321],\n",
       "       [ 1.34179696, -0.42102015],\n",
       "       [ 0.92173701, -0.01716559],\n",
       "       [ 1.84586124, -0.67387065],\n",
       "       [ 2.00808316, -0.61183593],\n",
       "       [ 1.89543421, -0.68727307],\n",
       "       [ 1.15401555,  0.6965364 ],\n",
       "       [ 2.03374499, -0.86462403],\n",
       "       [ 1.99147547, -1.04566567],\n",
       "       [ 1.86425786, -0.38567404],\n",
       "       [ 1.55935649,  0.89369285],\n",
       "       [ 1.51609145, -0.26817075],\n",
       "       [ 1.36820418, -1.00787793],\n",
       "       [ 0.95744849,  0.02425043]])"
      ]
     },
     "execution_count": 20,
     "metadata": {},
     "output_type": "execute_result"
    }
   ],
   "source": [
    "pca_data"
   ]
  },
  {
   "cell_type": "code",
   "execution_count": 31,
   "metadata": {},
   "outputs": [
    {
     "data": {
      "text/plain": [
       "<matplotlib.collections.PathCollection at 0x1bf1c099610>"
      ]
     },
     "execution_count": 31,
     "metadata": {},
     "output_type": "execute_result"
    },
    {
     "data": {
      "image/png": "[encoded data removed]",
      "text/plain": [
       "<Figure size 640x480 with 1 Axes>"
      ]
     },
     "metadata": {},
     "output_type": "display_data"
    }
   ],
   "source": [
    "plt.scatter(pca_data[:,0],pca_data[:,1],alpha=0.7,edgecolors=\"pink\",c='red')"
   ]
  }
 ],
 "metadata": {
  "kernelspec": {
   "display_name": "Python 3",
   "language": "python",
   "name": "python3"
  },
  "language_info": {
   "codemirror_mode": {
    "name": "ipython",
    "version": 3
   },
   "file_extension": ".py",
   "mimetype": "text/x-python",
   "name": "python",
   "nbconvert_exporter": "python",
   "pygments_lexer": "ipython3",
   "version": "3.11.3"
  }
 },
 "nbformat": 4,
 "nbformat_minor": 2
}
