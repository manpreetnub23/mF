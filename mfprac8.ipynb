{
 "cells": [
  {
   "cell_type": "code",
   "execution_count": 3,
   "metadata": {},
   "outputs": [
    {
     "name": "stdout",
     "output_type": "stream",
     "text": [
      "-7\n"
     ]
    }
   ],
   "source": [
    "x = np.array([-1,2,2])\n",
    "y = np.array([1,0,-3])\n",
    "print(np.inner(x,y))"
   ]
  },
  {
   "cell_type": "code",
   "execution_count": 4,
   "metadata": {},
   "outputs": [
    {
     "data": {
      "text/plain": [
       "np.int64(-7)"
      ]
     },
     "execution_count": 4,
     "metadata": {},
     "output_type": "execute_result"
    }
   ],
   "source": [
    "x @ y"
   ]
  },
  {
   "cell_type": "code",
   "execution_count": 15,
   "metadata": {},
   "outputs": [
    {
     "name": "stdout",
     "output_type": "stream",
     "text": [
      "net present value :  1.236162401468524\n"
     ]
    }
   ],
   "source": [
    "c = np.array([0.1, 0.1, 0.1, 1.1])  # cash flow vector\n",
    "n = len(c)\n",
    "r = 0.05  # 5 % per-period rate\n",
    "d = np.array([(1 + r) ** -i for i in range(n)])\n",
    "NPV = c @ d\n",
    "print(\"net present value : \", NPV)"
   ]
  },
  {
   "cell_type": "code",
   "execution_count": null,
   "metadata": {},
   "outputs": [],
   "source": [
    "# total school age population\n",
    "# in the fifth line . to get the vector d we rise the scaler 1 + r element to the powers given in the range rangen() which expands to 0,1,2,..., n-1, using list comprehension."
   ]
  },
  {
   "cell_type": "code",
   "execution_count": 34,
   "metadata": {},
   "outputs": [
    {
     "name": "stdout",
     "output_type": "stream",
     "text": [
      "-1.1102230246251565e-16\n"
     ]
    }
   ],
   "source": [
    "a = np.random.random()\n",
    "b = np.random.random()\n",
    "lhs = (a + b) * (a - b)\n",
    "rhs = a**2 - b**2\n",
    "print(lhs - rhs)"
   ]
  },
  {
   "cell_type": "code",
   "execution_count": 39,
   "metadata": {},
   "outputs": [
    {
     "name": "stdout",
     "output_type": "stream",
     "text": [
      "25072.789110856924\n",
      "time taken =  0.0\n"
     ]
    }
   ],
   "source": [
    "a = np.random.random(10**5)\n",
    "b = np.random.random(10**5)\n",
    "start = time.time()\n",
    "print(a @ b)\n",
    "end = time.time()\n",
    "print(\"time taken = \", end - start)"
   ]
  },
  {
   "cell_type": "code",
   "execution_count": 40,
   "metadata": {},
   "outputs": [
    {
     "data": {
      "text/plain": [
       "-5"
      ]
     },
     "execution_count": 40,
     "metadata": {},
     "output_type": "execute_result"
    }
   ],
   "source": [
    "# linewr function\n",
    "f = lambda x: x[0] + x[1] - x[3] ** 2\n",
    "f([-1, 0, 1, 2])"
   ]
  },
  {
   "cell_type": "code",
   "execution_count": 60,
   "metadata": {},
   "outputs": [
    {
     "name": "stdout",
     "output_type": "stream",
     "text": [
      "LHS :  -8.3\n",
      "RHS :  -8.3\n"
     ]
    }
   ],
   "source": [
    "# superposition principle.\n",
    "a = np.array([-2, 0, 1, -3])\n",
    "x = np.array([2, 2, -1, 1])\n",
    "y = np.array([0, 1, -1, 0])\n",
    "alpha = 1.5\n",
    "beta = -3.7\n",
    "LHS = np.inner(alpha * x + beta * y, a)\n",
    "RHS = alpha * np.inner(x, a) + beta * np.inner(y, a)\n",
    "print(\"LHS : \", LHS)\n",
    "print(\"RHS : \", RHS)"
   ]
  },
  {
   "cell_type": "code",
   "execution_count": 62,
   "metadata": {},
   "outputs": [
    {
     "name": "stdout",
     "output_type": "stream",
     "text": [
      "1\n"
     ]
    }
   ],
   "source": [
    "a = np.array([-2,0,1,-3])\n",
    "e3 = np.array([0,0,1,0])\n",
    "print(e3 @ a)"
   ]
  },
  {
   "cell_type": "code",
   "execution_count": 63,
   "metadata": {},
   "outputs": [
    {
     "data": {
      "text/plain": [
       "-0.25"
      ]
     },
     "execution_count": 63,
     "metadata": {},
     "output_type": "execute_result"
    }
   ],
   "source": [
    "# average\n",
    "avg = lambda x : sum(x)/len(x)\n",
    "x = [1,-3,2,-1]\n",
    "avg(x)"
   ]
  },
  {
   "cell_type": "code",
   "execution_count": 81,
   "metadata": {},
   "outputs": [],
   "source": [
    "# Taylor approximation\n",
    "f = lambda x : x[0] + np.exp(x[0])\n",
    "grad_f = lambda z : np.array([1-np.exp(x[1] - z[0]),np.exp(z[1] - z[0])])\n",
    "z = np.array([1,2])"
   ]
  },
  {
   "cell_type": "code",
   "execution_count": 82,
   "metadata": {},
   "outputs": [
    {
     "data": {
      "text/plain": [
       "(np.float64(3.718281828459045), np.float64(3.718281828459045))"
      ]
     },
     "execution_count": 82,
     "metadata": {},
     "output_type": "execute_result"
    }
   ],
   "source": [
    "f_hat = lambda x : f(z) + grad_f(z) @ (x - z)\n",
    "f([1,2]),f_hat([1,2])"
   ]
  },
  {
   "cell_type": "code",
   "execution_count": 77,
   "metadata": {},
   "outputs": [
    {
     "data": {
      "text/plain": [
       "(np.float64(161.37557999999999), 115)"
      ]
     },
     "execution_count": 77,
     "metadata": {},
     "output_type": "execute_result"
    }
   ],
   "source": [
    "# parameters in regression model\n",
    "\n",
    "beta = np.array([148.73,-18.85])\n",
    "v = 54.40\n",
    "y_hat = lambda x : x @ beta + v\n",
    "# evaluate regression model prediction\n",
    "x = np.array([0.846,1])\n",
    "y = 115\n",
    "y_hat(x),y"
   ]
  },
  {
   "cell_type": "code",
   "execution_count": 102,
   "metadata": {},
   "outputs": [
    {
     "name": "stdout",
     "output_type": "stream",
     "text": [
      "3.0\n"
     ]
    }
   ],
   "source": [
    "x = np.array([2,-1,2])\n",
    "print(np.linalg.norm(x))"
   ]
  },
  {
   "cell_type": "code",
   "execution_count": 103,
   "metadata": {},
   "outputs": [
    {
     "name": "stdout",
     "output_type": "stream",
     "text": [
      "3.0\n"
     ]
    }
   ],
   "source": [
    "print(np.sqrt(np.inner(x,x)))"
   ]
  },
  {
   "cell_type": "code",
   "execution_count": 104,
   "metadata": {},
   "outputs": [
    {
     "name": "stdout",
     "output_type": "stream",
     "text": [
      "3.0\n"
     ]
    }
   ],
   "source": [
    "print((sum(x**2)**0.5))"
   ]
  },
  {
   "cell_type": "code",
   "execution_count": 105,
   "metadata": {},
   "outputs": [
    {
     "name": "stdout",
     "output_type": "stream",
     "text": [
      "LHS :  3.5719694218406444\n",
      "RHS :  3.7241374132564236\n"
     ]
    }
   ],
   "source": [
    "x = np.random.random(10)\n",
    "y = np.random.random(10)\n",
    "LHS = np.linalg.norm(x + y)\n",
    "RHS = np.linalg.norm(x) + np.linalg.norm(y)\n",
    "print('LHS : ',LHS)\n",
    "print('RHS : ',RHS)"
   ]
  },
  {
   "cell_type": "code",
   "execution_count": 106,
   "metadata": {},
   "outputs": [
    {
     "name": "stdout",
     "output_type": "stream",
     "text": [
      "-0.042529437832386836\n"
     ]
    }
   ],
   "source": [
    "rms = lambda x : (sum(x ** 2)**0.5)/(len(x)**0.5)\n",
    "t = np.arange(0,1.01,0.01)\n",
    "x = np.cos(8*t) - 2 * np.sin(11*t)\n",
    "print(sum(x)/len(x))"
   ]
  },
  {
   "cell_type": "code",
   "execution_count": 107,
   "metadata": {},
   "outputs": [
    {
     "name": "stdout",
     "output_type": "stream",
     "text": [
      "1.0837556422598\n"
     ]
    }
   ],
   "source": [
    "print(rms(x))"
   ]
  },
  {
   "cell_type": "code",
   "execution_count": null,
   "metadata": {},
   "outputs": [],
   "source": [
    "1,2,3,3,4,5"
   ]
  }
 ],
 "metadata": {
  "kernelspec": {
   "display_name": "Python 3",
   "language": "python",
   "name": "python3"
  },
  "language_info": {
   "codemirror_mode": {
    "name": "ipython",
    "version": 3
   },
   "file_extension": ".py",
   "mimetype": "text/x-python",
   "name": "python",
   "nbconvert_exporter": "python",
   "pygments_lexer": "ipython3",
   "version": "3.11.9"
  }
 },
 "nbformat": 4,
 "nbformat_minor": 2
}
