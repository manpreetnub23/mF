{
 "cells": [
  {
   "cell_type": "code",
   "execution_count": 18,
   "metadata": {},
   "outputs": [],
   "source": [
    "import numpy as np\n",
    "import numpy.linalg as la"
   ]
  },
  {
   "cell_type": "code",
   "execution_count": 19,
   "metadata": {},
   "outputs": [
    {
     "name": "stdout",
     "output_type": "stream",
     "text": [
      "A=\n",
      "[[ 1  3  7  2]\n",
      " [ 5  8 -9  0]\n",
      " [ 6 -7 11 12]]\n"
     ]
    }
   ],
   "source": [
    "A=np.array([[1,3,7,2],[5,8,-9,0],[6,-7,11,12]])\n",
    "print(\"A=\");print(A)"
   ]
  },
  {
   "cell_type": "code",
   "execution_count": 20,
   "metadata": {},
   "outputs": [
    {
     "name": "stdout",
     "output_type": "stream",
     "text": [
      "Transpose of A=\n",
      "[[ 1  5  6]\n",
      " [ 3  8 -7]\n",
      " [ 7 -9 11]\n",
      " [ 2  0 12]]\n"
     ]
    }
   ],
   "source": [
    "Atr = np.transpose(A)\n",
    "print(\"Transpose of A=\");print(Atr)"
   ]
  },
  {
   "cell_type": "code",
   "execution_count": 21,
   "metadata": {},
   "outputs": [
    {
     "name": "stdout",
     "output_type": "stream",
     "text": [
      "-2.0000000000000004\n"
     ]
    }
   ],
   "source": [
    "matB=np.array([[1,2],[3,4]])\n",
    "matBdet=la.det(matB)\n",
    "print(matBdet)\n"
   ]
  },
  {
   "cell_type": "code",
   "execution_count": 22,
   "metadata": {},
   "outputs": [
    {
     "name": "stdout",
     "output_type": "stream",
     "text": [
      "[[-2.   1. ]\n",
      " [ 1.5 -0.5]]\n"
     ]
    }
   ],
   "source": [
    "matBinv =la.inv(matB)\n",
    "print(matBinv)"
   ]
  },
  {
   "cell_type": "code",
   "execution_count": 23,
   "metadata": {},
   "outputs": [
    {
     "name": "stdout",
     "output_type": "stream",
     "text": [
      "[[-0.85714286 -0.28571429  0.71428571]\n",
      " [ 0.04761905 -0.0952381   0.23809524]\n",
      " [-0.33333333 -0.33333333  0.33333333]]\n"
     ]
    }
   ],
   "source": [
    "B=np.array([[-1,3,0],[2,1,-5],[1,4,-2]])\n",
    "Binv=la.inv(B)\n",
    "print(Binv)"
   ]
  },
  {
   "cell_type": "code",
   "execution_count": 24,
   "metadata": {},
   "outputs": [
    {
     "name": "stdout",
     "output_type": "stream",
     "text": [
      "[-1. -2.]\n"
     ]
    }
   ],
   "source": [
    "A=np.array([[0,1],[-2,-3]])\n",
    "Aeig, v=la.eig(A)\n",
    "print(Aeig)"
   ]
  },
  {
   "cell_type": "code",
   "execution_count": 25,
   "metadata": {},
   "outputs": [
    {
     "name": "stdout",
     "output_type": "stream",
     "text": [
      "[[-4. ]\n",
      " [ 4.5]]\n"
     ]
    }
   ],
   "source": [
    "b=np.array([[5],[6]])\n",
    "matBinv = la.inv(matB)\n",
    "X=matBinv.dot(b)\n",
    "print(X)"
   ]
  }
 ],
 "metadata": {
  "kernelspec": {
   "display_name": "Python 3",
   "language": "python",
   "name": "python3"
  },
  "language_info": {
   "codemirror_mode": {
    "name": "ipython",
    "version": 3
   },
   "file_extension": ".py",
   "mimetype": "text/x-python",
   "name": "python",
   "nbconvert_exporter": "python",
   "pygments_lexer": "ipython3",
   "version": "3.12.3"
  }
 },
 "nbformat": 4,
 "nbformat_minor": 2
}
